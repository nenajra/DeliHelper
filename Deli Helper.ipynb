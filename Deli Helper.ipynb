{
 "cells": [
  {
   "cell_type": "code",
   "execution_count": 1,
   "id": "binding-glance",
   "metadata": {},
   "outputs": [],
   "source": [
    "import warnings\n",
    "warnings.filterwarnings('ignore')\n",
    "\n",
    "import ipywidgets as widgets\n",
    "from IPython.display import display, clear_output"
   ]
  },
  {
   "cell_type": "code",
   "execution_count": 2,
   "id": "informal-powell",
   "metadata": {
    "scrolled": false
   },
   "outputs": [
    {
     "name": "stderr",
     "output_type": "stream",
     "text": [
      "Enabling notebook extension jupyter-js-widgets/extension...\n",
      "      - Validating: ok\n",
      "Enabling: voila\n",
      "- Writing config: C:\\Users\\Tyler\\AppData\\Local\\Programs\\Python\\Python310\\etc\\jupyter\n",
      "    - Validating...\n",
      "      voila 0.3.3 ok\n"
     ]
    }
   ],
   "source": [
    "!jupyter nbextension enable --py widgetsnbextension --sys-prefix\n",
    "!jupyter serverextension enable voila --sys-prefix"
   ]
  },
  {
   "cell_type": "code",
   "execution_count": 3,
   "id": "8c9493ae",
   "metadata": {},
   "outputs": [],
   "source": [
    "ciabatta_slider = {\n",
    "    \"turkey\": 8,\n",
    "    \"roast beef\": 8,\n",
    "    \"ham\": 8,\n",
    "    \"yellow american\": 6,\n",
    "    \"white american\": 6\n",
    "                  }\n",
    "\n",
    "assorted_sub = {\n",
    "    \"turkey\": 8,\n",
    "    \"roast beef\": 8,\n",
    "    \"ham\": 8,\n",
    "    \"yellow american\": 12,\n",
    "    \"mild cheddar\": 6\n",
    "                  }\n",
    "\n",
    "wrap_tray_md = {\n",
    "    \"turkey\": 6,\n",
    "    \"ham\": 3,\n",
    "    \"havarti\": 6\n",
    "                  }\n",
    "\n",
    "wrap_tray_lg = {\n",
    "    \"turkey\": 12,\n",
    "    \"ham\": 6,\n",
    "    \"havarti\": 12\n",
    "                  }\n",
    "\n",
    "trays = [ciabatta_slider, assorted_sub, wrap_tray_md, wrap_tray_lg]\n",
    "\n",
    "turkey = 0\n",
    "roast_beef = 0 \n",
    "ham = 0 \n",
    "yellow_american = 0\n",
    "white_american = 0\n",
    "mild_cheddar = 0\n",
    "havarti = 0\n",
    "total = 0\n"
   ]
  },
  {
   "cell_type": "code",
   "execution_count": 73,
   "id": "thorough-royal",
   "metadata": {},
   "outputs": [],
   "source": [
    "# button send\n",
    "\n",
    "button_send = widgets.Button(description='Calculate')\n",
    "output = widgets.Output()\n",
    "\n",
    "\n",
    "def calc(a,b,c,d):\n",
    "    a = int(a)\n",
    "    b = int(b)\n",
    "    c = int(c)\n",
    "    d = int(d)\n",
    "    \n",
    "    \n",
    "    \n",
    "    turkey = trays[0]['turkey'] * a + trays[1]['turkey'] * b + trays[2]['turkey'] * c + trays[3]['turkey'] * d\n",
    "    roast_beef = trays[0]['roast beef'] * a + trays[1]['roast beef'] * b\n",
    "    ham = trays[0]['ham'] * a + trays[1]['ham'] * b + trays[2]['ham'] * c + trays[3]['ham'] * d \n",
    "    yellow_american = trays[0]['yellow american'] * a + trays[1]['yellow american'] * b\n",
    "    white_american = trays[0]['white american'] * a\n",
    "    mild_cheddar = trays[1]['mild cheddar'] * b\n",
    "    havarti = trays[2]['havarti'] * c + trays[3]['havarti'] * d\n",
    "    total = a + b + c + d\n",
    "\n",
    "    display(widgets.HTML(value=\"<h2 style='display:block; width:100%; text-align:left;'>Total # of Trays: {}</h2>\".format(total)))\n",
    "    display(widgets.HTML(value=\"<h3 style='display:block; width:100%; text-align:left;'># of Turkey slices: {}</h3>\".format(turkey)))\n",
    "    display(widgets.HTML(value=\"<h3 style='display:block; width:100%; text-align:left;'># of Roast Beef slices: {}</h3>\".format(roast_beef)))\n",
    "    display(widgets.HTML(value=\"<h3 style='display:block; width:100%; text-align:left;'># of Ham slices: {}</h3>\".format(ham)))\n",
    "    display(widgets.HTML(value=\"<h3 style='display:block; width:100%; text-align:left;'># of Yellow American Slices: {}</h3>\".format(yellow_american)))\n",
    "    display(widgets.HTML(value=\"<h3 style='display:block; width:100%; text-align:left;'># of White American Slices: {}</h3>\".format(white_american))) \n",
    "    display(widgets.HTML(value=\"<h3 style='display:block; width:100%; text-align:left;'># of Mild Cheddar Slices: {}</h3>\".format(mild_cheddar)))\n",
    "    display(widgets.HTML(value=\"<h3 style='display:block; width:100%; text-align:left;'># of Havarti Slices: {}</h3>\".format(havarti)))\n",
    "\n",
    "    \n",
    "#     print ('\\n' + 'Total # of Trays: {}'.format(total) + '\\n')\n",
    "#     print ('Cibatta: ' + str(a) + '\\n' + 'Assorted: ' + str(b) + '\\n' + 'Medium Wrap: ' + str(c) + '\\n' + 'Large Wrap: ' + str(d) + '\\n')\n",
    "#     print ('# of Turkey slices: ' + str(turkey) + '\\n' + '# of Roast Beef slices: ' + str(roast_beef) + '\\n' + '# of Ham slices: ' + str(ham) + '\\n' + '# of Yellow American slices: ' + str(yellow_american))\n",
    "#     print ('# of White American slices: ' + str(white_american) + '\\n' + '# of Mild Cheddar slices: ' + str(mild_cheddar) + '\\n' + '# of Havarti slices: ' + str(havarti) + '\\n')\n",
    "\n",
    "\n",
    "def tray_calc(events):\n",
    "    with output:\n",
    "        clear_output()\n",
    "        calc(a.value,b.value,c.value,d.value)\n",
    "\n",
    "button_send.on_click(tray_calc)\n",
    "vbox_result = widgets.HBox([output])"
   ]
  },
  {
   "cell_type": "code",
   "execution_count": 74,
   "id": "e512a2ff",
   "metadata": {},
   "outputs": [],
   "source": [
    "# Image Widget\n",
    "\n",
    "file = open(\"pexels-karolina-grabowska-5412432.jpg\", \"rb\")\n",
    "image = file.read()\n",
    "\n",
    "image_headline = widgets.Image(\n",
    "                    value=image,\n",
    "                    format='jpg',\n",
    "                    width='415',\n",
    "                    \n",
    "                )\n",
    "\n",
    "label_headline = widgets.Label(\n",
    "                    value='Photo by Karolina Grabowska on pexels.com',\n",
    "                    style={'description_width': 'initial'}\n",
    "                )\n",
    "\n",
    "vbox_headline = widgets.VBox([image_headline, label_headline])"
   ]
  },
  {
   "cell_type": "code",
   "execution_count": 81,
   "id": "guilty-ending",
   "metadata": {},
   "outputs": [],
   "source": [
    "# stacked right hand side\n",
    "\n",
    "box_layout = widgets.Layout(display='flex',\n",
    "                flex_flow='column',\n",
    "                align_items='center',\n",
    "                width='100%')\n",
    "\n",
    "box_layout2 = widgets.Layout(display='flex',\n",
    "                flex_flow='row',\n",
    "                align_items='stretch',\n",
    "                width='100%')\n",
    "\n",
    "a = widgets.BoundedIntText(value=0, min=0, max=300, step=1, disabled=False)\n",
    "b = widgets.BoundedIntText(value=0, min=0, max=300, step=1, disabled=False)\n",
    "c = widgets.BoundedIntText(value=0, min=0, max=300, step=1, disabled=False)\n",
    "d = widgets.BoundedIntText(value=0, min=0, max=300, step=1, disabled=False)\n",
    "\n",
    "\n",
    "text_head = widgets.HTML(value=\"<h1 style='font-size:90px'>Welcome to the Deli Helper</h1>\")\n",
    "text_a = widgets.HTML(value=\"<h2>How Many Ciabatta Platters?</h2>\")\n",
    "text_b = widgets.HTML(value=\"<h2>How Many Assorted Sub Platters?</h2>\")\n",
    "text_c = widgets.HTML(value=\"<h2>How Many Medium Wrap Trays?</h2>\")\n",
    "text_d = widgets.HTML(value=\"<h2>How Many Large Wrap Trays?</h2>\")\n",
    "\n",
    "\n",
    "vbox_inputs = widgets.VBox([text_a, a, text_b, b, text_c, c, text_d, d,button_send])\n",
    "vbox_content = widgets.HBox([vbox_headline,vbox_inputs,vbox_result],layout=box_layout2)\n",
    "vbox_text = widgets.VBox([text_head,vbox_content])"
   ]
  },
  {
   "cell_type": "code",
   "execution_count": 82,
   "id": "according-supervisor",
   "metadata": {
    "scrolled": false
   },
   "outputs": [
    {
     "data": {
      "application/vnd.jupyter.widget-view+json": {
       "model_id": "7996ce00d89b4e429de506658eb14dad",
       "version_major": 2,
       "version_minor": 0
      },
      "text/plain": [
       "HBox(children=(VBox(children=(HTML(value=\"<h1 style='font-size:90px'>Welcome to the Deli Helper</h1>\"), HBox(c…"
      ]
     },
     "metadata": {},
     "output_type": "display_data"
    }
   ],
   "source": [
    "box = widgets.HBox([vbox_text],layout=box_layout)\n",
    "display(box)"
   ]
  }
 ],
 "metadata": {
  "kernelspec": {
   "display_name": "Python 3 (ipykernel)",
   "language": "python",
   "name": "python3"
  },
  "language_info": {
   "codemirror_mode": {
    "name": "ipython",
    "version": 3
   },
   "file_extension": ".py",
   "mimetype": "text/x-python",
   "name": "python",
   "nbconvert_exporter": "python",
   "pygments_lexer": "ipython3",
   "version": "3.10.0"
  }
 },
 "nbformat": 4,
 "nbformat_minor": 5
}
